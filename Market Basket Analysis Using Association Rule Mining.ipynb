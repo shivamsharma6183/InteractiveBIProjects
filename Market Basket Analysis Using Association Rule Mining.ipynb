{
 "cells": [
  {
   "cell_type": "markdown",
   "id": "b40be482",
   "metadata": {},
   "source": [
    "# Objective:\n",
    "### To discover meaningful associations between items frequently bought together in a retail dataset, which can be used to optimize store layouts, inform cross-selling strategies, and improve customer recommendations.\n",
    "\n"
   ]
  },
  {
   "cell_type": "code",
   "execution_count": 3,
   "id": "1ee882ca",
   "metadata": {},
   "outputs": [],
   "source": [
    "import pandas as pd\n",
    "from mlxtend.frequent_patterns import apriori,association_rules\n",
    "from mlxtend.preprocessing import TransactionEncoder\n",
    "from sklearn.cluster import KMeans\n",
    "from sklearn.metrics import silhouette_score\n",
    "import matplotlib.pyplot as plt\n",
    "import seaborn as sns\n"
   ]
  },
  {
   "cell_type": "code",
   "execution_count": 5,
   "id": "09788669",
   "metadata": {},
   "outputs": [],
   "source": [
    "df = pd.read_excel('Online Retail (1).xlsx')"
   ]
  },
  {
   "cell_type": "code",
   "execution_count": 6,
   "id": "5f7b14d6",
   "metadata": {},
   "outputs": [
    {
     "data": {
      "text/html": [
       "<div>\n",
       "<style scoped>\n",
       "    .dataframe tbody tr th:only-of-type {\n",
       "        vertical-align: middle;\n",
       "    }\n",
       "\n",
       "    .dataframe tbody tr th {\n",
       "        vertical-align: top;\n",
       "    }\n",
       "\n",
       "    .dataframe thead th {\n",
       "        text-align: right;\n",
       "    }\n",
       "</style>\n",
       "<table border=\"1\" class=\"dataframe\">\n",
       "  <thead>\n",
       "    <tr style=\"text-align: right;\">\n",
       "      <th></th>\n",
       "      <th>InvoiceNo</th>\n",
       "      <th>StockCode</th>\n",
       "      <th>Description</th>\n",
       "      <th>Quantity</th>\n",
       "      <th>InvoiceDate</th>\n",
       "      <th>UnitPrice</th>\n",
       "      <th>CustomerID</th>\n",
       "      <th>Country</th>\n",
       "    </tr>\n",
       "  </thead>\n",
       "  <tbody>\n",
       "    <tr>\n",
       "      <th>0</th>\n",
       "      <td>536365</td>\n",
       "      <td>85123A</td>\n",
       "      <td>WHITE HANGING HEART T-LIGHT HOLDER</td>\n",
       "      <td>6</td>\n",
       "      <td>2010-12-01 08:26:00</td>\n",
       "      <td>2.55</td>\n",
       "      <td>17850.0</td>\n",
       "      <td>United Kingdom</td>\n",
       "    </tr>\n",
       "    <tr>\n",
       "      <th>1</th>\n",
       "      <td>536365</td>\n",
       "      <td>71053</td>\n",
       "      <td>WHITE METAL LANTERN</td>\n",
       "      <td>6</td>\n",
       "      <td>2010-12-01 08:26:00</td>\n",
       "      <td>3.39</td>\n",
       "      <td>17850.0</td>\n",
       "      <td>United Kingdom</td>\n",
       "    </tr>\n",
       "    <tr>\n",
       "      <th>2</th>\n",
       "      <td>536365</td>\n",
       "      <td>84406B</td>\n",
       "      <td>CREAM CUPID HEARTS COAT HANGER</td>\n",
       "      <td>8</td>\n",
       "      <td>2010-12-01 08:26:00</td>\n",
       "      <td>2.75</td>\n",
       "      <td>17850.0</td>\n",
       "      <td>United Kingdom</td>\n",
       "    </tr>\n",
       "    <tr>\n",
       "      <th>3</th>\n",
       "      <td>536365</td>\n",
       "      <td>84029G</td>\n",
       "      <td>KNITTED UNION FLAG HOT WATER BOTTLE</td>\n",
       "      <td>6</td>\n",
       "      <td>2010-12-01 08:26:00</td>\n",
       "      <td>3.39</td>\n",
       "      <td>17850.0</td>\n",
       "      <td>United Kingdom</td>\n",
       "    </tr>\n",
       "    <tr>\n",
       "      <th>4</th>\n",
       "      <td>536365</td>\n",
       "      <td>84029E</td>\n",
       "      <td>RED WOOLLY HOTTIE WHITE HEART.</td>\n",
       "      <td>6</td>\n",
       "      <td>2010-12-01 08:26:00</td>\n",
       "      <td>3.39</td>\n",
       "      <td>17850.0</td>\n",
       "      <td>United Kingdom</td>\n",
       "    </tr>\n",
       "  </tbody>\n",
       "</table>\n",
       "</div>"
      ],
      "text/plain": [
       "  InvoiceNo StockCode                          Description  Quantity  \\\n",
       "0    536365    85123A   WHITE HANGING HEART T-LIGHT HOLDER         6   \n",
       "1    536365     71053                  WHITE METAL LANTERN         6   \n",
       "2    536365    84406B       CREAM CUPID HEARTS COAT HANGER         8   \n",
       "3    536365    84029G  KNITTED UNION FLAG HOT WATER BOTTLE         6   \n",
       "4    536365    84029E       RED WOOLLY HOTTIE WHITE HEART.         6   \n",
       "\n",
       "          InvoiceDate  UnitPrice  CustomerID         Country  \n",
       "0 2010-12-01 08:26:00       2.55     17850.0  United Kingdom  \n",
       "1 2010-12-01 08:26:00       3.39     17850.0  United Kingdom  \n",
       "2 2010-12-01 08:26:00       2.75     17850.0  United Kingdom  \n",
       "3 2010-12-01 08:26:00       3.39     17850.0  United Kingdom  \n",
       "4 2010-12-01 08:26:00       3.39     17850.0  United Kingdom  "
      ]
     },
     "execution_count": 6,
     "metadata": {},
     "output_type": "execute_result"
    }
   ],
   "source": [
    "df.head()"
   ]
  },
  {
   "cell_type": "code",
   "execution_count": 7,
   "id": "a4de22f8",
   "metadata": {},
   "outputs": [
    {
     "data": {
      "text/plain": [
       "(541909, 8)"
      ]
     },
     "execution_count": 7,
     "metadata": {},
     "output_type": "execute_result"
    }
   ],
   "source": [
    "df.shape"
   ]
  },
  {
   "cell_type": "code",
   "execution_count": 8,
   "id": "b61eb2e2",
   "metadata": {},
   "outputs": [
    {
     "name": "stdout",
     "output_type": "stream",
     "text": [
      "<class 'pandas.core.frame.DataFrame'>\n",
      "RangeIndex: 541909 entries, 0 to 541908\n",
      "Data columns (total 8 columns):\n",
      " #   Column       Non-Null Count   Dtype         \n",
      "---  ------       --------------   -----         \n",
      " 0   InvoiceNo    541909 non-null  object        \n",
      " 1   StockCode    541909 non-null  object        \n",
      " 2   Description  540455 non-null  object        \n",
      " 3   Quantity     541909 non-null  int64         \n",
      " 4   InvoiceDate  541909 non-null  datetime64[ns]\n",
      " 5   UnitPrice    541909 non-null  float64       \n",
      " 6   CustomerID   406829 non-null  float64       \n",
      " 7   Country      541909 non-null  object        \n",
      "dtypes: datetime64[ns](1), float64(2), int64(1), object(4)\n",
      "memory usage: 33.1+ MB\n"
     ]
    }
   ],
   "source": [
    "df.info()"
   ]
  },
  {
   "cell_type": "code",
   "execution_count": 9,
   "id": "c84606ff",
   "metadata": {},
   "outputs": [
    {
     "data": {
      "text/plain": [
       "InvoiceNo           0\n",
       "StockCode           0\n",
       "Description      1454\n",
       "Quantity            0\n",
       "InvoiceDate         0\n",
       "UnitPrice           0\n",
       "CustomerID     135080\n",
       "Country             0\n",
       "dtype: int64"
      ]
     },
     "execution_count": 9,
     "metadata": {},
     "output_type": "execute_result"
    }
   ],
   "source": [
    "df.isna().sum()"
   ]
  },
  {
   "cell_type": "code",
   "execution_count": 10,
   "id": "2850d619",
   "metadata": {},
   "outputs": [],
   "source": [
    "df = df.dropna()\n",
    "df = df[df['Quantity']>0]"
   ]
  },
  {
   "cell_type": "code",
   "execution_count": 11,
   "id": "a4e0873e",
   "metadata": {},
   "outputs": [
    {
     "data": {
      "text/plain": [
       "InvoiceNo      0\n",
       "StockCode      0\n",
       "Description    0\n",
       "Quantity       0\n",
       "InvoiceDate    0\n",
       "UnitPrice      0\n",
       "CustomerID     0\n",
       "Country        0\n",
       "dtype: int64"
      ]
     },
     "execution_count": 11,
     "metadata": {},
     "output_type": "execute_result"
    }
   ],
   "source": [
    "df.isna().sum()"
   ]
  },
  {
   "cell_type": "code",
   "execution_count": 12,
   "id": "933799d1",
   "metadata": {},
   "outputs": [],
   "source": [
    "basket = df[df['Country']== 'United Kingdom'].pivot_table(index = 'InvoiceNo',columns='Description',values='Quantity',aggfunc = 'sum').fillna(0)\n",
    "basket = basket.applymap(lambda x: 1 if x>0 else 0)"
   ]
  },
  {
   "cell_type": "code",
   "execution_count": 13,
   "id": "e18f21d2",
   "metadata": {},
   "outputs": [
    {
     "data": {
      "text/html": [
       "<div>\n",
       "<style scoped>\n",
       "    .dataframe tbody tr th:only-of-type {\n",
       "        vertical-align: middle;\n",
       "    }\n",
       "\n",
       "    .dataframe tbody tr th {\n",
       "        vertical-align: top;\n",
       "    }\n",
       "\n",
       "    .dataframe thead th {\n",
       "        text-align: right;\n",
       "    }\n",
       "</style>\n",
       "<table border=\"1\" class=\"dataframe\">\n",
       "  <thead>\n",
       "    <tr style=\"text-align: right;\">\n",
       "      <th>Description</th>\n",
       "      <th>4 PURPLE FLOCK DINNER CANDLES</th>\n",
       "      <th>50'S CHRISTMAS GIFT BAG LARGE</th>\n",
       "      <th>DOLLY GIRL BEAKER</th>\n",
       "      <th>I LOVE LONDON MINI BACKPACK</th>\n",
       "      <th>NINE DRAWER OFFICE TIDY</th>\n",
       "      <th>OVAL WALL MIRROR DIAMANTE</th>\n",
       "      <th>RED SPOT GIFT BAG LARGE</th>\n",
       "      <th>SET 2 TEA TOWELS I LOVE LONDON</th>\n",
       "      <th>SPACEBOY BABY GIFT SET</th>\n",
       "      <th>TOADSTOOL BEDSIDE LIGHT</th>\n",
       "      <th>...</th>\n",
       "      <th>ZINC STAR T-LIGHT HOLDER</th>\n",
       "      <th>ZINC SWEETHEART SOAP DISH</th>\n",
       "      <th>ZINC SWEETHEART WIRE LETTER RACK</th>\n",
       "      <th>ZINC T-LIGHT HOLDER STAR LARGE</th>\n",
       "      <th>ZINC T-LIGHT HOLDER STARS LARGE</th>\n",
       "      <th>ZINC T-LIGHT HOLDER STARS SMALL</th>\n",
       "      <th>ZINC TOP  2 DOOR WOODEN SHELF</th>\n",
       "      <th>ZINC WILLIE WINKIE  CANDLE STICK</th>\n",
       "      <th>ZINC WIRE KITCHEN ORGANISER</th>\n",
       "      <th>ZINC WIRE SWEETHEART LETTER TRAY</th>\n",
       "    </tr>\n",
       "    <tr>\n",
       "      <th>InvoiceNo</th>\n",
       "      <th></th>\n",
       "      <th></th>\n",
       "      <th></th>\n",
       "      <th></th>\n",
       "      <th></th>\n",
       "      <th></th>\n",
       "      <th></th>\n",
       "      <th></th>\n",
       "      <th></th>\n",
       "      <th></th>\n",
       "      <th></th>\n",
       "      <th></th>\n",
       "      <th></th>\n",
       "      <th></th>\n",
       "      <th></th>\n",
       "      <th></th>\n",
       "      <th></th>\n",
       "      <th></th>\n",
       "      <th></th>\n",
       "      <th></th>\n",
       "      <th></th>\n",
       "    </tr>\n",
       "  </thead>\n",
       "  <tbody>\n",
       "    <tr>\n",
       "      <th>536365</th>\n",
       "      <td>0</td>\n",
       "      <td>0</td>\n",
       "      <td>0</td>\n",
       "      <td>0</td>\n",
       "      <td>0</td>\n",
       "      <td>0</td>\n",
       "      <td>0</td>\n",
       "      <td>0</td>\n",
       "      <td>0</td>\n",
       "      <td>0</td>\n",
       "      <td>...</td>\n",
       "      <td>0</td>\n",
       "      <td>0</td>\n",
       "      <td>0</td>\n",
       "      <td>0</td>\n",
       "      <td>0</td>\n",
       "      <td>0</td>\n",
       "      <td>0</td>\n",
       "      <td>0</td>\n",
       "      <td>0</td>\n",
       "      <td>0</td>\n",
       "    </tr>\n",
       "    <tr>\n",
       "      <th>536366</th>\n",
       "      <td>0</td>\n",
       "      <td>0</td>\n",
       "      <td>0</td>\n",
       "      <td>0</td>\n",
       "      <td>0</td>\n",
       "      <td>0</td>\n",
       "      <td>0</td>\n",
       "      <td>0</td>\n",
       "      <td>0</td>\n",
       "      <td>0</td>\n",
       "      <td>...</td>\n",
       "      <td>0</td>\n",
       "      <td>0</td>\n",
       "      <td>0</td>\n",
       "      <td>0</td>\n",
       "      <td>0</td>\n",
       "      <td>0</td>\n",
       "      <td>0</td>\n",
       "      <td>0</td>\n",
       "      <td>0</td>\n",
       "      <td>0</td>\n",
       "    </tr>\n",
       "    <tr>\n",
       "      <th>536367</th>\n",
       "      <td>0</td>\n",
       "      <td>0</td>\n",
       "      <td>0</td>\n",
       "      <td>0</td>\n",
       "      <td>0</td>\n",
       "      <td>0</td>\n",
       "      <td>0</td>\n",
       "      <td>0</td>\n",
       "      <td>0</td>\n",
       "      <td>0</td>\n",
       "      <td>...</td>\n",
       "      <td>0</td>\n",
       "      <td>0</td>\n",
       "      <td>0</td>\n",
       "      <td>0</td>\n",
       "      <td>0</td>\n",
       "      <td>0</td>\n",
       "      <td>0</td>\n",
       "      <td>0</td>\n",
       "      <td>0</td>\n",
       "      <td>0</td>\n",
       "    </tr>\n",
       "    <tr>\n",
       "      <th>536368</th>\n",
       "      <td>0</td>\n",
       "      <td>0</td>\n",
       "      <td>0</td>\n",
       "      <td>0</td>\n",
       "      <td>0</td>\n",
       "      <td>0</td>\n",
       "      <td>0</td>\n",
       "      <td>0</td>\n",
       "      <td>0</td>\n",
       "      <td>0</td>\n",
       "      <td>...</td>\n",
       "      <td>0</td>\n",
       "      <td>0</td>\n",
       "      <td>0</td>\n",
       "      <td>0</td>\n",
       "      <td>0</td>\n",
       "      <td>0</td>\n",
       "      <td>0</td>\n",
       "      <td>0</td>\n",
       "      <td>0</td>\n",
       "      <td>0</td>\n",
       "    </tr>\n",
       "    <tr>\n",
       "      <th>536369</th>\n",
       "      <td>0</td>\n",
       "      <td>0</td>\n",
       "      <td>0</td>\n",
       "      <td>0</td>\n",
       "      <td>0</td>\n",
       "      <td>0</td>\n",
       "      <td>0</td>\n",
       "      <td>0</td>\n",
       "      <td>0</td>\n",
       "      <td>0</td>\n",
       "      <td>...</td>\n",
       "      <td>0</td>\n",
       "      <td>0</td>\n",
       "      <td>0</td>\n",
       "      <td>0</td>\n",
       "      <td>0</td>\n",
       "      <td>0</td>\n",
       "      <td>0</td>\n",
       "      <td>0</td>\n",
       "      <td>0</td>\n",
       "      <td>0</td>\n",
       "    </tr>\n",
       "  </tbody>\n",
       "</table>\n",
       "<p>5 rows × 3844 columns</p>\n",
       "</div>"
      ],
      "text/plain": [
       "Description   4 PURPLE FLOCK DINNER CANDLES   50'S CHRISTMAS GIFT BAG LARGE  \\\n",
       "InvoiceNo                                                                     \n",
       "536365                                    0                               0   \n",
       "536366                                    0                               0   \n",
       "536367                                    0                               0   \n",
       "536368                                    0                               0   \n",
       "536369                                    0                               0   \n",
       "\n",
       "Description   DOLLY GIRL BEAKER   I LOVE LONDON MINI BACKPACK  \\\n",
       "InvoiceNo                                                       \n",
       "536365                        0                             0   \n",
       "536366                        0                             0   \n",
       "536367                        0                             0   \n",
       "536368                        0                             0   \n",
       "536369                        0                             0   \n",
       "\n",
       "Description   NINE DRAWER OFFICE TIDY   OVAL WALL MIRROR DIAMANTE   \\\n",
       "InvoiceNo                                                            \n",
       "536365                              0                            0   \n",
       "536366                              0                            0   \n",
       "536367                              0                            0   \n",
       "536368                              0                            0   \n",
       "536369                              0                            0   \n",
       "\n",
       "Description   RED SPOT GIFT BAG LARGE   SET 2 TEA TOWELS I LOVE LONDON   \\\n",
       "InvoiceNo                                                                 \n",
       "536365                              0                                 0   \n",
       "536366                              0                                 0   \n",
       "536367                              0                                 0   \n",
       "536368                              0                                 0   \n",
       "536369                              0                                 0   \n",
       "\n",
       "Description   SPACEBOY BABY GIFT SET   TOADSTOOL BEDSIDE LIGHT   ...  \\\n",
       "InvoiceNo                                                        ...   \n",
       "536365                             0                          0  ...   \n",
       "536366                             0                          0  ...   \n",
       "536367                             0                          0  ...   \n",
       "536368                             0                          0  ...   \n",
       "536369                             0                          0  ...   \n",
       "\n",
       "Description  ZINC STAR T-LIGHT HOLDER   ZINC SWEETHEART SOAP DISH  \\\n",
       "InvoiceNo                                                           \n",
       "536365                               0                          0   \n",
       "536366                               0                          0   \n",
       "536367                               0                          0   \n",
       "536368                               0                          0   \n",
       "536369                               0                          0   \n",
       "\n",
       "Description  ZINC SWEETHEART WIRE LETTER RACK  ZINC T-LIGHT HOLDER STAR LARGE  \\\n",
       "InvoiceNo                                                                       \n",
       "536365                                      0                               0   \n",
       "536366                                      0                               0   \n",
       "536367                                      0                               0   \n",
       "536368                                      0                               0   \n",
       "536369                                      0                               0   \n",
       "\n",
       "Description  ZINC T-LIGHT HOLDER STARS LARGE  ZINC T-LIGHT HOLDER STARS SMALL  \\\n",
       "InvoiceNo                                                                       \n",
       "536365                                     0                                0   \n",
       "536366                                     0                                0   \n",
       "536367                                     0                                0   \n",
       "536368                                     0                                0   \n",
       "536369                                     0                                0   \n",
       "\n",
       "Description  ZINC TOP  2 DOOR WOODEN SHELF   ZINC WILLIE WINKIE  CANDLE STICK  \\\n",
       "InvoiceNo                                                                       \n",
       "536365                                    0                                 0   \n",
       "536366                                    0                                 0   \n",
       "536367                                    0                                 0   \n",
       "536368                                    0                                 0   \n",
       "536369                                    0                                 0   \n",
       "\n",
       "Description  ZINC WIRE KITCHEN ORGANISER  ZINC WIRE SWEETHEART LETTER TRAY  \n",
       "InvoiceNo                                                                   \n",
       "536365                                 0                                 0  \n",
       "536366                                 0                                 0  \n",
       "536367                                 0                                 0  \n",
       "536368                                 0                                 0  \n",
       "536369                                 0                                 0  \n",
       "\n",
       "[5 rows x 3844 columns]"
      ]
     },
     "execution_count": 13,
     "metadata": {},
     "output_type": "execute_result"
    }
   ],
   "source": [
    "basket.head()"
   ]
  },
  {
   "cell_type": "code",
   "execution_count": 16,
   "id": "99c173c6",
   "metadata": {},
   "outputs": [
    {
     "name": "stdout",
     "output_type": "stream",
     "text": [
      "    support                              itemsets\n",
      "0  0.113160  (WHITE HANGING HEART T-LIGHT HOLDER)\n",
      "1  0.086912             (JUMBO BAG RED RETROSPOT)\n",
      "2  0.084690            (REGENCY CAKESTAND 3 TIER)\n",
      "3  0.078083       (ASSORTED COLOUR BIRD ORNAMENT)\n",
      "4  0.077542                       (PARTY BUNTING)\n"
     ]
    }
   ],
   "source": [
    "item_counts = basket.sum().sort_values(ascending=False).head(50)\n",
    "basket_filtered = basket[item_counts.index]\n",
    "\n",
    "# Apply Apriori on the filtered data\n",
    "frequent_itemsets = apriori(basket_filtered, min_support=0.01, use_colnames=True)\n",
    "print(frequent_itemsets.head())"
   ]
  },
  {
   "cell_type": "code",
   "execution_count": 18,
   "id": "c3a376ae",
   "metadata": {},
   "outputs": [
    {
     "name": "stdout",
     "output_type": "stream",
     "text": [
      "    support                         itemsets\n",
      "0  0.078083  (ASSORTED COLOUR BIRD ORNAMENT)\n",
      "1  0.055739          (HEART OF WICKER SMALL)\n",
      "2  0.086912        (JUMBO BAG RED RETROSPOT)\n",
      "3  0.059823        (LUNCH BAG  BLACK SKULL.)\n",
      "4  0.052976            (LUNCH BAG CARS BLUE)\n"
     ]
    }
   ],
   "source": [
    "frequent_itemsets = apriori(basket,min_support=0.05,use_colnames=True)\n",
    "print(frequent_itemsets.head())"
   ]
  },
  {
   "cell_type": "code",
   "execution_count": 19,
   "id": "f904e227",
   "metadata": {},
   "outputs": [
    {
     "name": "stdout",
     "output_type": "stream",
     "text": [
      "    support                               itemsets\n",
      "0  0.010631     ( SET 2 TEA TOWELS I LOVE LONDON )\n",
      "1  0.012013               (10 COLOUR SPACEBOY PEN)\n",
      "2  0.010631      (12 MESSAGE CARDS WITH ENVELOPES)\n",
      "3  0.014956        (12 PENCIL SMALL TUBE WOODLAND)\n",
      "4  0.017118  (12 PENCILS SMALL TUBE RED RETROSPOT)\n",
      "5  0.016397          (12 PENCILS SMALL TUBE SKULL)\n",
      "6  0.012433   (12 PENCILS TALL TUBE RED RETROSPOT)\n",
      "7  0.012493          (12 PENCILS TALL TUBE SKULLS)\n",
      "8  0.010811        (12 PENCILS TALL TUBE WOODLAND)\n",
      "9  0.011772  (15CM CHRISTMAS GLASS BALL 20 LIGHTS)\n"
     ]
    }
   ],
   "source": [
    "frequent_itemsets = apriori(basket,min_support=0.01,use_colnames = True,low_memory=True)\n",
    "print(frequent_itemsets.head(10))"
   ]
  },
  {
   "cell_type": "code",
   "execution_count": 21,
   "id": "d495e572",
   "metadata": {},
   "outputs": [
    {
     "name": "stdout",
     "output_type": "stream",
     "text": [
      "                                           antecedents  \\\n",
      "148                                (HERB MARKER THYME)   \n",
      "149                             (HERB MARKER ROSEMARY)   \n",
      "938  (WOODEN HEART CHRISTMAS SCANDINAVIAN, WOODEN T...   \n",
      "943  (REGENCY CAKESTAND 3 TIER, ROSES REGENCY TEACU...   \n",
      "607  (ROSES REGENCY TEACUP AND SAUCER , PINK REGENC...   \n",
      "\n",
      "                              consequents  antecedent support  \\\n",
      "148                (HERB MARKER ROSEMARY)            0.010751   \n",
      "149                   (HERB MARKER THYME)            0.010872   \n",
      "938  (WOODEN STAR CHRISTMAS SCANDINAVIAN)            0.010992   \n",
      "943     (GREEN REGENCY TEACUP AND SAUCER)            0.013514   \n",
      "607     (GREEN REGENCY TEACUP AND SAUCER)            0.023004   \n",
      "\n",
      "     consequent support   support  confidence       lift  leverage  conviction  \n",
      "148            0.010872  0.010151    0.944134  86.844687  0.010034   17.705400  \n",
      "149            0.010751  0.010151    0.933702  86.844687  0.010034   14.921166  \n",
      "938            0.024086  0.010211    0.928962  38.569287  0.009946   13.737873  \n",
      "943            0.036759  0.012133    0.897778  24.423370  0.011636    9.423010  \n",
      "607            0.036759  0.020482    0.890339  24.221015  0.019636    8.783841  \n"
     ]
    }
   ],
   "source": [
    "rules = association_rules(frequent_itemsets,metric=\"lift\",min_threshold=1)\n",
    "rules = rules.sort_values(['confidence','lift'],ascending=[False,False])\n",
    "\n",
    "print(rules.head())"
   ]
  },
  {
   "cell_type": "code",
   "execution_count": 22,
   "id": "b87c8b5e",
   "metadata": {},
   "outputs": [
    {
     "data": {
      "image/png": "[encoded data removed]",
      "text/plain": [
       "<Figure size 720x432 with 1 Axes>"
      ]
     },
     "metadata": {
      "needs_background": "light"
     },
     "output_type": "display_data"
    }
   ],
   "source": [
    "#lets see with the plot\n",
    "plt.figure(figsize=(10,6))\n",
    "sns.scatterplot(x='support',y = 'confidence',size='lift',data=rules)\n",
    "plt.title('Association Rules Visualization')\n",
    "plt.xlabel('Support')\n",
    "plt.ylabel('Confidence')\n",
    "plt.show()"
   ]
  },
  {
   "cell_type": "code",
   "execution_count": 29,
   "id": "c65db5d9",
   "metadata": {},
   "outputs": [
    {
     "name": "stdout",
     "output_type": "stream",
     "text": [
      "                                           antecedents  \\\n",
      "148                                (HERB MARKER THYME)   \n",
      "149                             (HERB MARKER ROSEMARY)   \n",
      "938  (WOODEN HEART CHRISTMAS SCANDINAVIAN, WOODEN T...   \n",
      "943  (REGENCY CAKESTAND 3 TIER, ROSES REGENCY TEACU...   \n",
      "607  (ROSES REGENCY TEACUP AND SAUCER , PINK REGENC...   \n",
      "\n",
      "                              consequents   support  confidence       lift  \n",
      "148                (HERB MARKER ROSEMARY)  0.010151    0.944134  86.844687  \n",
      "149                   (HERB MARKER THYME)  0.010151    0.933702  86.844687  \n",
      "938  (WOODEN STAR CHRISTMAS SCANDINAVIAN)  0.010211    0.928962  38.569287  \n",
      "943     (GREEN REGENCY TEACUP AND SAUCER)  0.012133    0.897778  24.423370  \n",
      "607     (GREEN REGENCY TEACUP AND SAUCER)  0.020482    0.890339  24.221015  \n"
     ]
    }
   ],
   "source": [
    "print(rules[['antecedents','consequents','support','confidence','lift']].head())"
   ]
  },
  {
   "cell_type": "markdown",
   "id": "6ea66aa2",
   "metadata": {},
   "source": [
    "## Antecedents: (REGENCY CAKESTAND 3 TIER, ROSES REGENCY TEACUP AND SAUCER)\n",
    "Consequents: (GREEN REGENCY TEACUP AND SAUCER)\n",
    "Support: 0.012133\n",
    "Confidence: 0.897778\n",
    "Lift: 24.423370\n",
    "\n",
    "\n",
    "Interpretation:\n",
    "If a customer buys a REGENCY CAKESTAND 3 TIER and a ROSES REGENCY TEACUP AND SAUCER, there is an 89.7% chance they will also buy a GREEN REGENCY TEACUP AND SAUCER.\n",
    "The lift of 24.42 means they are about 24 times more likely to buy this item if they already bought the two antecedents, compared to a random chance purchase."
   ]
  },
  {
   "cell_type": "markdown",
   "id": "7fe473ed",
   "metadata": {},
   "source": [
    "## Confidence gives us the probability of the items being bought together.\n",
    "## Lift tells us how much more likely the consequent will be bought if the antecedent is bought, compared to random chance. A lift value greater than 1 indicates a strong association, and the higher the number, the stronger the relationship."
   ]
  },
  {
   "cell_type": "markdown",
   "id": "fd513d87",
   "metadata": {},
   "source": [
    "## Support Calculation:\n",
    "\n",
    "\n",
    "Support\n",
    "=\n",
    "Number of transactions with the item\n",
    "Total number of transactions\n",
    "Support= \n",
    "Total number of transactions\n",
    "---------------------------------------------\n",
    "Number of transactions with the item\n",
    "​\n",
    " \n"
   ]
  },
  {
   "cell_type": "markdown",
   "id": "06ee669e",
   "metadata": {},
   "source": [
    "##  Example\n",
    "### Support: 0.010631 means 1.06% of transactions included the item SET 2 TEA TOWELS I LOVE LONDON.\n",
    "### Itemset: The item being considered is just one item: (SET 2 TEA TOWELS I LOVE LONDON)."
   ]
  },
  {
   "cell_type": "markdown",
   "id": "1ccd17a3",
   "metadata": {},
   "source": [
    "#  What Are Association Rules?\n",
    "### Association rules help us understand the relationship between items by defining:\n",
    "\n",
    "### Antecedent (X): The item or set of items that, if purchased, may lead to the purchase of other items.\n",
    "### Consequent (Y): The item or set of items that are likely to be purchased when the antecedent is purchased.\n",
    "### Confidence: The likelihood of purchasing Y when X is purchased.\n"
   ]
  },
  {
   "cell_type": "code",
   "execution_count": null,
   "id": "c98c46b7",
   "metadata": {},
   "outputs": [],
   "source": []
  }
 ],
 "metadata": {
  "kernelspec": {
   "display_name": "Python 3 (ipykernel)",
   "language": "python",
   "name": "python3"
  },
  "language_info": {
   "codemirror_mode": {
    "name": "ipython",
    "version": 3
   },
   "file_extension": ".py",
   "mimetype": "text/x-python",
   "name": "python",
   "nbconvert_exporter": "python",
   "pygments_lexer": "ipython3",
   "version": "3.9.7"
  }
 },
 "nbformat": 4,
 "nbformat_minor": 5
}
